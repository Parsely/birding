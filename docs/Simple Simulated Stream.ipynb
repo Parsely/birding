{
 "cells": [
  {
   "cell_type": "code",
   "execution_count": 1,
   "metadata": {
    "collapsed": true
   },
   "outputs": [],
   "source": [
    "# Generate sample data.\n",
    "\n",
    "import datetime\n",
    "import random\n",
    "\n",
    "URLS = [\n",
    "    'http://time.com/3945677/greece-referendum-vote/',\n",
    "    'http://fortune.com/this-week-in-photos-062715/',\n",
    "    'http://www.bbc.com/news/technology-33379571',\n",
    "]\n",
    "\n",
    "class StepDatetimeGenerator(object):\n",
    "    def __init__(self, now=None, step=None):\n",
    "        if now is None:\n",
    "            now = datetime.datetime.now()\n",
    "        if step is None:\n",
    "            step = datetime.timedelta(seconds=0.25)\n",
    "        self.currently = now\n",
    "        self._step = step\n",
    "\n",
    "    def step(self):\n",
    "        self.currently, dt = self.currently + self._step, self.currently\n",
    "        return dt\n",
    "\n",
    "def generate_url(urls=None):\n",
    "    if urls is None:\n",
    "        urls = URLS\n",
    "    return random.choice(urls)\n",
    "\n",
    "def generate_tuples(dt_gen=None, count=10):\n",
    "    if dt_gen is None:\n",
    "        start = datetime.datetime.now() - datetime.timedelta(seconds=1800)\n",
    "        dt_gen = StepDatetimeGenerator()\n",
    "    i = 0\n",
    "    while i < count:\n",
    "        yield generate_url(), dt_gen.step().isoformat()\n",
    "        i += 1"
   ]
  },
  {
   "cell_type": "code",
   "execution_count": 2,
   "metadata": {
    "collapsed": true
   },
   "outputs": [],
   "source": [
    "# Define processing steps.\n",
    "\n",
    "from birding import Twitter, SearchManager\n",
    "manager = SearchManager(Twitter.from_oauth_file())\n",
    "\n",
    "def search_url(*tup):\n",
    "    url = tup[0]\n",
    "    return manager.search(q=url)\n",
    "\n",
    "def lookup_tweets(search_result):\n",
    "    return manager.lookup_search_result(search_result)\n",
    "\n",
    "def dump_lookup_result(lookup_result):\n",
    "    return manager.dump(lookup_result)"
   ]
  },
  {
   "cell_type": "code",
   "execution_count": 3,
   "metadata": {
    "collapsed": false
   },
   "outputs": [
    {
     "name": "stdout",
     "output_type": "stream",
     "text": [
      "@onnoh -- https://twitter.com/onnoh\n",
      "BBC News - Reddit in uproar after staff sacking http://t.co/I1EJX0NVEe\n",
      "\n",
      "@wopot -- https://twitter.com/wopot\n",
      "#Reddit in uproar after staff sacking - BBC News\n",
      "http://t.co/0aLr16ftFZ\n",
      "\n",
      "@PaulineGrantTO -- https://twitter.com/PaulineGrantTO\n",
      "Reddit in uproar after staff sacking - BBC News http://t.co/wVE75UHN47\n",
      "\n",
      "@FactsVsOpinion -- https://twitter.com/FactsVsOpinion\n",
      "RT @PaulineGrantTO: Reddit in uproar after staff sacking - BBC News http://t.co/wVE75UHN47\n",
      "\n",
      "@kupathrak -- https://twitter.com/kupathrak\n",
      "RT @wopot: #Reddit in uproar after staff sacking - BBC News\n",
      "http://t.co/0aLr16ftFZ\n",
      "\n",
      "@awrd -- https://twitter.com/awrd\n",
      "Will be very interesting to see what happens. 'Reddit in uproar after staff sacking'  http://t.co/EotOibST8N\n",
      "\n",
      "@lexinerus -- https://twitter.com/lexinerus\n",
      "ReTw 8mw: It's amazing that reddit makes headlines like this and there are people who still don't even know what r… http://t.co/z5YC0iLdIp\n",
      "\n",
      "@Narconavax -- https://twitter.com/Narconavax\n",
      "BBC News - Reddit in uproar after staff sacking http://t.co/rENnPHOpx4\n",
      "\n",
      "@elliotecweb -- https://twitter.com/elliotecweb\n",
      "The world is turning upside-down: \"Reddit in uproar after staff sacking\" http://t.co/VJDYPhc7Tm\n",
      "\n",
      "@jaszhix -- https://twitter.com/jaszhix\n",
      "Reddit in uproar after staff sacking http://t.co/7VsgZakrst\n",
      "\n",
      "@JenkoSchmidt -- https://twitter.com/JenkoSchmidt\n",
      "You did this, somehow, didn't you, @TonyAbbottMHR? #Reddit #Auspol #RedditRevolt http://t.co/BIxtUb7rht\n",
      "\n",
      "@8mw -- https://twitter.com/8mw\n",
      "It's amazing that reddit makes headlines like this and there are people who still don't even know what reddit is. … http://t.co/8LxkVLsJKC\n",
      "\n",
      "@Hideki_Manga -- https://twitter.com/Hideki_Manga\n",
      "“Reddit in uproar after staff sacking” http://t.co/uA2WJX8EF0 HAHAHAHAA!\n",
      "\n",
      "@lexinerus -- https://twitter.com/lexinerus\n",
      "ReTw lexinerus: ReTw 8mw: It's amazing that reddit makes headlines like this and there are people who still don't … http://t.co/z5YC0iLdIp\n",
      "\n",
      "@MatthewCallaway -- https://twitter.com/MatthewCallaway\n",
      "Reddit in uproar after staff sacking - BBC News  http://t.co/HxZ2UHe9S9 #RedditRevolt\n",
      "@tradingoptions2 -- https://twitter.com/tradingoptions2\n",
      "This week in photos, June 27 &amp;#8211; July 3,&amp;nbsp;2015via @FortuneMagazine http://t.co/nQBRmUxWbJ\n",
      "\n",
      "@editorialiste -- https://twitter.com/editorialiste\n",
      "This week in photos, June 27 - July 3, 2015: http://t.co/GLyxPqJCpB\n",
      "\n",
      "@tailoredapp1 -- https://twitter.com/tailoredapp1\n",
      "RT @markgongloff: This week in photos http://t.co/SZnqTs2uHy via @FortuneMagazine\n"
     ]
    }
   ],
   "source": [
    "# Put it all together.\n",
    "\n",
    "for tup in generate_tuples(count=2):\n",
    "    print(dump_lookup_result(lookup_tweets(search_url(*tup))))"
   ]
  }
 ],
 "metadata": {
  "kernelspec": {
   "display_name": "Python 2",
   "language": "python",
   "name": "python2"
  },
  "language_info": {
   "codemirror_mode": {
    "name": "ipython",
    "version": 2
   },
   "file_extension": ".py",
   "mimetype": "text/x-python",
   "name": "python",
   "nbconvert_exporter": "python",
   "pygments_lexer": "ipython2",
   "version": "2.7.10"
  }
 },
 "nbformat": 4,
 "nbformat_minor": 0
}
